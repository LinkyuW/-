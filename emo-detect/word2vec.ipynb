{
 "cells": [
  {
   "cell_type": "code",
   "execution_count": 7,
   "metadata": {},
   "outputs": [],
   "source": [
    "from gensim.models import Word2Vec\n",
    "from gensim.models.word2vec import LineSentence\n",
    "\n",
    "file_path1 = 'datasets//new_noxin.txt'\n",
    "file_path2 = 'datasets//new_yes.txt'\n",
    "\n",
    "with open(file_path1, 'r', encoding='utf8') as file1:\n",
    "    sentences1 = LineSentence(file1)\n",
    "with open(file_path2, 'r', encoding='utf8') as file2:\n",
    "    sentences2 = LineSentence(file2)\n",
    "\n",
    "# 使用LineSentence读取文件并生成句子列表\n",
    "sentences1 = [line for line in LineSentence(file_path1)]\n",
    "sentences2 = [line for line in LineSentence(file_path2)]\n",
    "\n",
    "# 合并两个句子列表\n",
    "sentences = sentences1 + sentences2\n",
    "\n",
    "model = Word2Vec(\n",
    "    sentences,\n",
    "    sg=0,  # 使用CBOW模型\n",
    "    vector_size=100,  \n",
    "    window=3,\n",
    "    min_count=1,\n",
    "    workers=8\n",
    ")\n",
    "#词向量保存\n",
    "model.wv.save_word2vec_format('data.vector', binary=False)\n",
    "\n",
    "# 模型保存\n",
    "model.save('word2vec.model')"
   ]
  }
 ],
 "metadata": {
  "kernelspec": {
   "display_name": "p2s",
   "language": "python",
   "name": "python3"
  },
  "language_info": {
   "codemirror_mode": {
    "name": "ipython",
    "version": 3
   },
   "file_extension": ".py",
   "mimetype": "text/x-python",
   "name": "python",
   "nbconvert_exporter": "python",
   "pygments_lexer": "ipython3",
   "version": "3.10.14"
  }
 },
 "nbformat": 4,
 "nbformat_minor": 2
}
